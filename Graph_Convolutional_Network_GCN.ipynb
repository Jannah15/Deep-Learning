{
 "cells": [
  {
   "cell_type": "code",
   "execution_count": 1,
   "id": "2d0adb66",
   "metadata": {},
   "outputs": [],
   "source": [
    "import math\n",
    "import time\n",
    "import numpy as np\n",
    "import pandas as pd\n",
    "import matplotlib.pyplot as plt\n",
    "import networkx as nx\n",
    "from matplotlib import cm\n",
    "import torch\n",
    "import torch.nn as nn\n",
    "import torch.nn.functional as F\n",
    "import torch.optim as optim\n",
    "from torch_geometric.datasets import CoraFull\n",
    "from torch_geometric.transforms import NormalizeFeatures\n",
    "from torch_geometric.utils import add_self_loops, degree, to_networkx\n",
    "from sklearn.decomposition import PCA\n",
    "from sklearn.model_selection import train_test_split\n",
    "from sklearn.preprocessing import LabelEncoder\n",
    "from sklearn.metrics import classification_report, confusion_matrix\n",
    "from torch.utils.tensorboard import SummaryWriter"
   ]
  },
  {
   "cell_type": "code",
   "execution_count": 2,
   "id": "bd9387fa",
   "metadata": {},
   "outputs": [],
   "source": [
    "# Load the dataset\n",
    "dataset = CoraFull(root='data/CoraFull', transform=NormalizeFeatures())\n",
    "data = dataset[0]"
   ]
  },
  {
   "cell_type": "code",
   "execution_count": 3,
   "id": "8b394d2c",
   "metadata": {},
   "outputs": [
    {
     "name": "stdout",
     "output_type": "stream",
     "text": [
      "Data(x=[19793, 8710], edge_index=[2, 126842], y=[19793])\n",
      "Number of nodes: 19793\n",
      "Number of edges: 126842\n",
      "Number of features per node: 8710\n",
      "Number of classes: 70\n"
     ]
    }
   ],
   "source": [
    "# Print dataset summary\n",
    "print(data)\n",
    "print(f\"Number of nodes: {data.num_nodes}\")\n",
    "print(f\"Number of edges: {data.num_edges}\")\n",
    "print(f\"Number of features per node: {data.num_node_features}\")\n",
    "print(f\"Number of classes: {data.y.unique().size(0)}\")"
   ]
  },
  {
   "cell_type": "code",
   "execution_count": 4,
   "id": "8e2e5841",
   "metadata": {},
   "outputs": [
    {
     "data": {
      "text/plain": [
       "False"
      ]
     },
     "execution_count": 4,
     "metadata": {},
     "output_type": "execute_result"
    }
   ],
   "source": [
    "data.has_isolated_nodes()"
   ]
  },
  {
   "cell_type": "code",
   "execution_count": 5,
   "id": "0fec86cd",
   "metadata": {},
   "outputs": [],
   "source": [
    "# Split the dataset\n",
    "num_nodes = data.num_nodes\n",
    "train_idx, test_idx = train_test_split(\n",
    "    range(num_nodes), test_size=0.2, stratify=data.y)\n",
    "train_idx, val_idx = train_test_split(\n",
    "    train_idx, test_size=0.25, stratify=data.y[train_idx])"
   ]
  },
  {
   "cell_type": "code",
   "execution_count": 6,
   "id": "25a15284",
   "metadata": {},
   "outputs": [],
   "source": [
    "# Create masks\n",
    "data.train_mask = torch.zeros(num_nodes, dtype=torch.bool)\n",
    "data.val_mask = torch.zeros(num_nodes, dtype=torch.bool)\n",
    "data.test_mask = torch.zeros(num_nodes, dtype=torch.bool)\n",
    "data.train_mask[train_idx] = True\n",
    "data.val_mask[val_idx] = True\n",
    "data.test_mask[test_idx] = True"
   ]
  },
  {
   "cell_type": "code",
   "execution_count": 7,
   "id": "b0610dcd",
   "metadata": {},
   "outputs": [],
   "source": [
    "# Feature reduction using PCA\n",
    "#pca = PCA(n_components=128)  # You can adjust n_components here\n",
    "#reduced_features = pca.fit_transform(data.x.numpy())\n",
    "#data.x = torch.tensor(reduced_features, dtype=torch.float)"
   ]
  },
  {
   "cell_type": "code",
   "execution_count": 8,
   "id": "cba47390",
   "metadata": {},
   "outputs": [],
   "source": [
    "# Encode labels\n",
    "encoder = LabelEncoder()\n",
    "data.y = torch.tensor(encoder.fit_transform(data.y.numpy()), dtype=torch.long)"
   ]
  },
  {
   "cell_type": "code",
   "execution_count": 9,
   "id": "641de156",
   "metadata": {},
   "outputs": [],
   "source": [
    "writer = SummaryWriter(log_dir='runs/gcn_experiment')"
   ]
  },
  {
   "cell_type": "code",
   "execution_count": 10,
   "id": "1848053c",
   "metadata": {},
   "outputs": [],
   "source": [
    "# Define GCN Layers with Batch Normalization\n",
    "class GraphConvolution(nn.Module):\n",
    "    def __init__(self, in_features, out_features, bias=True):\n",
    "        super(GraphConvolution, self).__init__()\n",
    "        self.weight = nn.Parameter(torch.FloatTensor(in_features, out_features))\n",
    "        if bias:\n",
    "            self.bias = nn.Parameter(torch.FloatTensor(out_features))\n",
    "        else:\n",
    "            self.register_parameter('bias', None)\n",
    "        self.reset_parameters()\n",
    "\n",
    "    def reset_parameters(self):\n",
    "        stdv = 1. / math.sqrt(self.weight.size(1))\n",
    "        self.weight.data.uniform_(-stdv, stdv)\n",
    "        if self.bias is not None:\n",
    "            self.bias.data.uniform_(-stdv, stdv)\n",
    "\n",
    "    def forward(self, input, adj):\n",
    "        support = torch.mm(input, self.weight)\n",
    "        output = torch.spmm(adj, support)\n",
    "        if self.bias is not None:\n",
    "            return output + self.bias\n",
    "        else:\n",
    "            return output"
   ]
  },
  {
   "cell_type": "code",
   "execution_count": 11,
   "id": "8fbbd810",
   "metadata": {},
   "outputs": [],
   "source": [
    "class GCN(nn.Module):\n",
    "    def __init__(self, nfeat, nhid, nclass, dropout):\n",
    "        super(GCN, self).__init__()\n",
    "        self.gc1 = GraphConvolution(nfeat, nhid)\n",
    "        self.gc2 = GraphConvolution(nhid, nclass)\n",
    "        self.dropout = dropout\n",
    "\n",
    "        # Batch Normalization after each GCN layer\n",
    "        self.bn1 = nn.BatchNorm1d(nhid)\n",
    "        self.bn2 = nn.BatchNorm1d(nclass)\n",
    "\n",
    "    def forward(self, x, adj):\n",
    "        x = F.relu(self.gc1(x, adj))\n",
    "        x = self.bn1(x)\n",
    "        x = F.dropout(x, self.dropout, training=self.training)\n",
    "        x = self.gc2(x, adj)\n",
    "        x = self.bn2(x)\n",
    "        return F.log_softmax(x, dim=1)"
   ]
  },
  {
   "cell_type": "code",
   "execution_count": 12,
   "id": "1d5827eb",
   "metadata": {},
   "outputs": [],
   "source": [
    "# Prepare the adjacency matrix\n",
    "edge_index, _ = add_self_loops(data.edge_index, num_nodes=data.num_nodes)\n",
    "deg = degree(edge_index[0], num_nodes=data.num_nodes)\n",
    "deg_inv_sqrt = deg.pow(-0.5)\n",
    "deg_inv_sqrt[deg_inv_sqrt == float('inf')] = 0\n",
    "row, col = edge_index\n",
    "adj_norm = deg_inv_sqrt[row] * deg_inv_sqrt[col]\n",
    "adj_norm = torch.sparse_coo_tensor(edge_index, adj_norm, (data.num_nodes, data.num_nodes))"
   ]
  },
  {
   "cell_type": "code",
   "execution_count": 13,
   "id": "79de18db",
   "metadata": {},
   "outputs": [],
   "source": [
    "# Model initialization\n",
    "model = GCN(\n",
    "    nfeat=data.x.size(1),\n",
    "    nhid=256,  \n",
    "    nclass=data.y.max().item() + 1,\n",
    "    dropout=0.5  \n",
    ")\n",
    "\n",
    "optimizer = optim.Adam(model.parameters(), lr=0.001, weight_decay=1e-5)"
   ]
  },
  {
   "cell_type": "code",
   "execution_count": 14,
   "id": "2bb4a7cd",
   "metadata": {},
   "outputs": [],
   "source": [
    "# Learning Rate Scheduler\n",
    "scheduler = optim.lr_scheduler.StepLR(optimizer, step_size=20, gamma=0.5)\n",
    "\n",
    "# Weighted Cross-Entropy Loss for handling class imbalance\n",
    "class_weights = data.y.bincount().float()\n",
    "class_weights = 1.0 / class_weights\n",
    "class_weights = class_weights / class_weights.sum()\n",
    "loss_fn = nn.NLLLoss(weight=class_weights)"
   ]
  },
  {
   "cell_type": "code",
   "execution_count": 15,
   "id": "c73e931c",
   "metadata": {},
   "outputs": [],
   "source": [
    "# Early Stopping parameters\n",
    "patience = 20\n",
    "best_val_loss = float('inf')\n",
    "epochs_without_improvement = 0"
   ]
  },
  {
   "cell_type": "code",
   "execution_count": 16,
   "id": "7b4c534b",
   "metadata": {},
   "outputs": [],
   "source": [
    "# Training and evaluation loop\n",
    "def accuracy(output, labels):\n",
    "    preds = output.max(1)[1].type_as(labels)\n",
    "    correct = preds.eq(labels).double().sum()\n",
    "    return correct / len(labels)\n",
    "\n",
    "train_losses, val_losses = [], []\n",
    "train_accuracies, val_accuracies = [], []"
   ]
  },
  {
   "cell_type": "code",
   "execution_count": 17,
   "id": "6472d639",
   "metadata": {},
   "outputs": [
    {
     "name": "stdout",
     "output_type": "stream",
     "text": [
      "Epoch 0: Train Loss 4.7699, Val Loss 4.2502, Train Acc 0.0112, Val Acc 0.0129\n",
      "Epoch 10: Train Loss 2.0098, Val Loss 4.2303, Train Acc 0.5743, Val Acc 0.0141\n",
      "Epoch 20: Train Loss 1.3618, Val Loss 4.2001, Train Acc 0.6952, Val Acc 0.3382\n",
      "Epoch 30: Train Loss 1.2025, Val Loss 4.1611, Train Acc 0.7232, Val Acc 0.5165\n",
      "Epoch 40: Train Loss 1.0775, Val Loss 4.0967, Train Acc 0.7450, Val Acc 0.6067\n",
      "Epoch 50: Train Loss 1.0205, Val Loss 3.9900, Train Acc 0.7583, Val Acc 0.6560\n",
      "Epoch 60: Train Loss 0.9758, Val Loss 3.8117, Train Acc 0.7647, Val Acc 0.6742\n",
      "Epoch 70: Train Loss 0.9482, Val Loss 3.5221, Train Acc 0.7652, Val Acc 0.6769\n",
      "Epoch 80: Train Loss 0.9270, Val Loss 3.0831, Train Acc 0.7702, Val Acc 0.6787\n",
      "Epoch 90: Train Loss 0.9130, Val Loss 2.5260, Train Acc 0.7749, Val Acc 0.6797\n",
      "Epoch 100: Train Loss 0.9049, Val Loss 2.0372, Train Acc 0.7793, Val Acc 0.6787\n",
      "Epoch 110: Train Loss 0.8978, Val Loss 1.7662, Train Acc 0.7803, Val Acc 0.6787\n",
      "Epoch 120: Train Loss 0.8927, Val Loss 1.6590, Train Acc 0.7780, Val Acc 0.6779\n",
      "Epoch 130: Train Loss 0.8908, Val Loss 1.6202, Train Acc 0.7777, Val Acc 0.6787\n",
      "Epoch 140: Train Loss 0.8878, Val Loss 1.6059, Train Acc 0.7789, Val Acc 0.6779\n",
      "Epoch 150: Train Loss 0.8862, Val Loss 1.6004, Train Acc 0.7789, Val Acc 0.6777\n",
      "Epoch 160: Train Loss 0.8829, Val Loss 1.5986, Train Acc 0.7802, Val Acc 0.6782\n",
      "Epoch 170: Train Loss 0.8821, Val Loss 1.5975, Train Acc 0.7826, Val Acc 0.6782\n",
      "Epoch 180: Train Loss 0.8796, Val Loss 1.5973, Train Acc 0.7828, Val Acc 0.6785\n",
      "Epoch 190: Train Loss 0.8838, Val Loss 1.5969, Train Acc 0.7810, Val Acc 0.6785\n"
     ]
    }
   ],
   "source": [
    "# Training loop\n",
    "for epoch in range(200):\n",
    "    model.train()\n",
    "    optimizer.zero_grad()\n",
    "    output = model(data.x, adj_norm)\n",
    "    loss_train = loss_fn(output[data.train_mask], data.y[data.train_mask])\n",
    "    acc_train = accuracy(output[data.train_mask], data.y[data.train_mask])\n",
    "    train_losses.append(loss_train.item())\n",
    "    train_accuracies.append(acc_train.item())\n",
    "    loss_train.backward()\n",
    "    optimizer.step()\n",
    "\n",
    "    model.eval()\n",
    "    output = model(data.x, adj_norm)\n",
    "    loss_val = loss_fn(output[data.val_mask], data.y[data.val_mask])\n",
    "    acc_val = accuracy(output[data.val_mask], data.y[data.val_mask])\n",
    "    val_losses.append(loss_val.item())\n",
    "    val_accuracies.append(acc_val.item())\n",
    "\n",
    "    if epoch % 10 == 0:\n",
    "        print(f\"Epoch {epoch}: Train Loss {loss_train.item():.4f}, Val Loss {loss_val.item():.4f}, Train Acc {acc_train:.4f}, Val Acc {acc_val:.4f}\")\n",
    "    \n",
    "    # Log metrics to TensorBoard\n",
    "    writer.add_scalar('Loss/train', loss_train.item(), epoch)\n",
    "    writer.add_scalar('Loss/val', loss_val.item(), epoch)\n",
    "    writer.add_scalar('Accuracy/train', acc_train.item(), epoch)\n",
    "    writer.add_scalar('Accuracy/val', acc_val.item(), epoch)\n",
    "    \n",
    "    # Early Stopping\n",
    "    #if loss_val < best_val_loss:\n",
    "        #best_val_loss = loss_val\n",
    "        #epochs_without_improvement = 0\n",
    "    #else:\n",
    "        #epochs_without_improvement += 1\n",
    "        #if epochs_without_improvement >= patience:\n",
    "            #print(\"Early stopping triggered\")\n",
    "            #break\n",
    "    \n",
    "    # Step the scheduler\n",
    "    scheduler.step()\n",
    "    \n",
    "writer.close()"
   ]
  },
  {
   "cell_type": "code",
   "execution_count": 18,
   "id": "1cf2112e",
   "metadata": {},
   "outputs": [
    {
     "data": {
      "image/png": "[encoded data removed]",
      "text/plain": [
       "<Figure size 1200x600 with 2 Axes>"
      ]
     },
     "metadata": {},
     "output_type": "display_data"
    }
   ],
   "source": [
    "# Plot learning curves\n",
    "plt.figure(figsize=(12, 6))\n",
    "plt.subplot(1, 2, 1)\n",
    "plt.plot(train_losses, label='Train Loss')\n",
    "plt.plot(val_losses, label='Validation Loss')\n",
    "plt.legend()\n",
    "plt.title('Loss')\n",
    "\n",
    "plt.subplot(1, 2, 2)\n",
    "plt.plot(train_accuracies, label='Train Accuracy')\n",
    "plt.plot(val_accuracies, label='Validation Accuracy')\n",
    "plt.legend()\n",
    "plt.title('Accuracy')\n",
    "plt.show()"
   ]
  },
  {
   "cell_type": "code",
   "execution_count": 19,
   "id": "c0a8d8a6",
   "metadata": {
    "scrolled": true
   },
   "outputs": [
    {
     "name": "stdout",
     "output_type": "stream",
     "text": [
      "Test Loss: 1.5152, Test Accuracy: 0.6812\n"
     ]
    }
   ],
   "source": [
    "# Test evaluation\n",
    "model.eval()\n",
    "output = model(data.x, adj_norm)\n",
    "test_loss = loss_fn(output[data.test_mask], data.y[data.test_mask])\n",
    "test_acc = accuracy(output[data.test_mask], data.y[data.test_mask])\n",
    "print(f\"Test Loss: {test_loss.item():.4f}, Test Accuracy: {test_acc:.4f}\")"
   ]
  },
  {
   "cell_type": "code",
   "execution_count": 20,
   "id": "5d758866",
   "metadata": {},
   "outputs": [
    {
     "name": "stdout",
     "output_type": "stream",
     "text": [
      "Classification Report:\n",
      "               precision    recall  f1-score   support\n",
      "\n",
      "           0       0.80      0.78      0.79        51\n",
      "           1       0.44      0.80      0.57        10\n",
      "           2       0.74      0.59      0.66        49\n",
      "           3       0.74      0.71      0.72        76\n",
      "           4       0.90      0.69      0.78        13\n",
      "           5       0.77      0.90      0.83        61\n",
      "           6       0.92      0.75      0.83        81\n",
      "           7       0.70      0.41      0.52       133\n",
      "           8       0.76      0.85      0.80        48\n",
      "           9       0.81      0.79      0.80        68\n",
      "          10       0.45      0.68      0.54        28\n",
      "          11       0.57      0.67      0.61        45\n",
      "          12       0.38      0.60      0.46        20\n",
      "          13       0.76      0.65      0.70       104\n",
      "          14       0.78      0.76      0.77        68\n",
      "          15       0.42      0.57      0.48        28\n",
      "          16       0.47      0.87      0.61        23\n",
      "          17       0.51      0.95      0.67        22\n",
      "          18       0.57      0.81      0.67        16\n",
      "          19       0.79      0.62      0.70        87\n",
      "          20       0.64      0.67      0.65        84\n",
      "          21       0.64      0.63      0.63        51\n",
      "          22       0.65      0.70      0.67        83\n",
      "          23       0.51      0.59      0.55        39\n",
      "          24       0.69      0.73      0.71        67\n",
      "          25       0.62      0.62      0.62        63\n",
      "          26       0.70      0.53      0.60        57\n",
      "          27       0.85      0.67      0.75       157\n",
      "          28       0.58      0.83      0.68        23\n",
      "          29       0.80      0.88      0.84        93\n",
      "          30       0.59      0.66      0.62        44\n",
      "          31       0.62      0.61      0.62        75\n",
      "          32       0.40      0.52      0.45        31\n",
      "          33       0.84      0.74      0.79       171\n",
      "          34       0.80      0.64      0.71       115\n",
      "          35       0.36      0.71      0.48        17\n",
      "          36       0.59      0.75      0.66        59\n",
      "          37       0.64      0.88      0.74        33\n",
      "          38       0.38      0.40      0.39        25\n",
      "          39       0.86      0.75      0.80       113\n",
      "          40       0.81      0.75      0.78        56\n",
      "          41       0.74      0.68      0.71        41\n",
      "          42       0.61      0.74      0.67        19\n",
      "          43       0.18      0.50      0.26        10\n",
      "          44       0.70      0.81      0.75        26\n",
      "          45       0.79      0.59      0.68        74\n",
      "          46       0.46      0.54      0.50        24\n",
      "          47       0.58      0.93      0.72        15\n",
      "          48       0.76      0.67      0.71       111\n",
      "          49       0.59      0.72      0.65        57\n",
      "          50       0.33      0.93      0.49        14\n",
      "          51       0.79      0.59      0.68       125\n",
      "          52       0.73      0.55      0.63       100\n",
      "          53       0.82      0.83      0.83       130\n",
      "          54       0.26      0.45      0.33        20\n",
      "          55       0.80      0.74      0.77        95\n",
      "          56       0.79      0.69      0.74        65\n",
      "          57       0.83      0.59      0.69       186\n",
      "          58       0.62      0.71      0.67        42\n",
      "          59       0.72      0.87      0.79        60\n",
      "          60       0.69      0.78      0.73        23\n",
      "          61       0.44      0.66      0.53        44\n",
      "          62       0.49      0.67      0.56        33\n",
      "          63       0.70      0.74      0.72        58\n",
      "          64       0.59      0.69      0.63        29\n",
      "          65       0.32      0.33      0.32        18\n",
      "          66       0.30      0.33      0.32        27\n",
      "          67       0.27      0.47      0.34        17\n",
      "          68       0.00      0.00      0.00         3\n",
      "          69       0.50      0.83      0.62         6\n",
      "\n",
      "    accuracy                           0.68      3959\n",
      "   macro avg       0.62      0.68      0.63      3959\n",
      "weighted avg       0.71      0.68      0.69      3959\n",
      "\n",
      "Confusion Matrix:\n",
      " [[40  3  0 ...  0  0  0]\n",
      " [ 2  8  0 ...  0  0  0]\n",
      " [ 0  0 29 ...  0  0  0]\n",
      " ...\n",
      " [ 0  0  0 ...  8  0  0]\n",
      " [ 0  0  1 ...  0  0  0]\n",
      " [ 0  0  0 ...  0  0  5]]\n"
     ]
    }
   ],
   "source": [
    "# Generate classification report and confusion matrix\n",
    "y_true = data.y[data.test_mask].cpu().numpy()\n",
    "y_pred = output[data.test_mask].max(1)[1].cpu().numpy()\n",
    "report = classification_report(y_true, y_pred)\n",
    "conf_matrix = confusion_matrix(y_true, y_pred)\n",
    "print(\"Classification Report:\\n\", report)\n",
    "print(\"Confusion Matrix:\\n\", conf_matrix)"
   ]
  },
  {
   "cell_type": "code",
   "execution_count": null,
   "id": "8570d226",
   "metadata": {},
   "outputs": [],
   "source": []
  }
 ],
 "metadata": {
  "kernelspec": {
   "display_name": "Python 3 (ipykernel)",
   "language": "python",
   "name": "python3"
  },
  "language_info": {
   "codemirror_mode": {
    "name": "ipython",
    "version": 3
   },
   "file_extension": ".py",
   "mimetype": "text/x-python",
   "name": "python",
   "nbconvert_exporter": "python",
   "pygments_lexer": "ipython3",
   "version": "3.11.5"
  }
 },
 "nbformat": 4,
 "nbformat_minor": 5
}
